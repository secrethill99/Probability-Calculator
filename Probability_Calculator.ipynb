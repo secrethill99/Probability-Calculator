{
  "nbformat": 4,
  "nbformat_minor": 0,
  "metadata": {
    "colab": {
      "provenance": [],
      "authorship_tag": "ABX9TyO3p7fsdxUlJ6nGmVjRZZ6K",
      "include_colab_link": true
    },
    "kernelspec": {
      "name": "python3",
      "display_name": "Python 3"
    },
    "language_info": {
      "name": "python"
    }
  },
  "cells": [
    {
      "cell_type": "markdown",
      "metadata": {
        "id": "view-in-github",
        "colab_type": "text"
      },
      "source": [
        "<a href=\"https://colab.research.google.com/github/secrethill99/Probability-Calculator/blob/main/Probability_Calculator.ipynb\" target=\"_parent\"><img src=\"https://colab.research.google.com/assets/colab-badge.svg\" alt=\"Open In Colab\"/></a>"
      ]
    },
    {
      "cell_type": "code",
      "source": [
        "import copy\n",
        "import random\n",
        "\n",
        "class Hat:\n",
        "    def __init__(self, **kwargs):\n",
        "        self.contents = []\n",
        "        for color, count in kwargs.items():\n",
        "            self.contents.extend([color] * count)\n",
        "\n",
        "    def draw(self, num_balls):\n",
        "        drawn_balls = []\n",
        "        if num_balls >= len(self.contents):\n",
        "            return self.contents\n",
        "        for _ in range(num_balls):\n",
        "            ball_index = random.randrange(len(self.contents))\n",
        "            drawn_balls.append(self.contents.pop(ball_index))\n",
        "        return drawn_balls\n",
        "\n",
        "def experiment(hat, expected_balls, num_balls_drawn, num_experiments):\n",
        "    successful_draws = 0\n",
        "    for _ in range(num_experiments):\n",
        "        hat_copy = copy.deepcopy(hat)\n",
        "        drawn_balls = hat_copy.draw(num_balls_drawn)\n",
        "        drawn_dict = {color: drawn_balls.count(color) for color in set(drawn_balls)}\n",
        "        success = True\n",
        "        for color, count in expected_balls.items():\n",
        "            if drawn_dict.get(color, 0) < count:\n",
        "                success = False\n",
        "                break\n",
        "        if success:\n",
        "            successful_draws += 1\n",
        "    return successful_draws / num_experiments\n",
        "\n",
        "# Example usage\n",
        "hat = Hat(black=6, red=4, green=3)\n",
        "probability = experiment(hat=hat,\n",
        "                         expected_balls={\"red\":2,\"green\":1},\n",
        "                         num_balls_drawn=5,\n",
        "                         num_experiments=2000)\n",
        "print(probability)\n"
      ],
      "metadata": {
        "colab": {
          "base_uri": "https://localhost:8080/"
        },
        "id": "DPZjQ3bJgCTH",
        "outputId": "88abfc79-620f-489b-bc20-72753a4546d4"
      },
      "execution_count": null,
      "outputs": [
        {
          "output_type": "stream",
          "name": "stdout",
          "text": [
            "0.376\n"
          ]
        }
      ]
    }
  ]
}